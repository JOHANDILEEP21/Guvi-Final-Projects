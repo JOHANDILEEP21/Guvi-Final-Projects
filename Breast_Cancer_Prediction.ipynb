{
  "nbformat": 4,
  "nbformat_minor": 0,
  "metadata": {
    "colab": {
      "provenance": [],
      "collapsed_sections": []
    },
    "kernelspec": {
      "name": "python3",
      "display_name": "Python 3"
    },
    "language_info": {
      "name": "python"
    }
  },
  "cells": [
    {
      "cell_type": "markdown",
      "source": [
        "#**Predicting Breast Cancer in a patient**"
      ],
      "metadata": {
        "id": "wXATejYiwklU"
      }
    },
    {
      "cell_type": "markdown",
      "source": [
        "##**Dataset Information:**\n",
        "\n",
        "The dataset consists of several predictor variables and one target variable, Diagnosis.\n",
        "\n",
        "The target variable has values 'Benign' and 'Malignant', where 'Benign' means that the cells are not harmful or there is no cancer and 'Malignant' means that the patient has cancer and the cells have a harmful effect "
      ],
      "metadata": {
        "id": "-Bxm_Nshwng5"
      }
    },
    {
      "cell_type": "markdown",
      "source": [
        "##**Scope:**\n",
        "\n",
        "---\n",
        "\n",
        "\n",
        "● Analysing the available data and exploring relationships among given variables\n",
        "\n",
        "● Data Pre-processing\n",
        "\n",
        "● Training SVM classifier to predict whether the patient has cancer or not\n",
        "\n",
        "● Assess the correctness in classifying data with respect to efficiency and \n",
        "effectiveness of the SVM classifier in terms of accuracy, precision, sensitivity, specificity and AUC ROC\n",
        "\n",
        "● Tuning the hyperparameters of SVM Classifier provided by the scikit-learn library\n"
      ],
      "metadata": {
        "id": "dBKB2zMcw2tI"
      }
    },
    {
      "cell_type": "markdown",
      "source": [
        "#Importing all required Library"
      ],
      "metadata": {
        "id": "RUlHwjRtw_1X"
      }
    },
    {
      "cell_type": "code",
      "source": [
        "import numpy as np\n",
        "import pandas as pd\n",
        "import matplotlib.pyplot as plt\n",
        "from sklearn.metrics import classification_report\n",
        "from sklearn.metrics import confusion_matrix\n",
        "from sklearn.metrics import accuracy_score\n",
        "from sklearn.model_selection import train_test_split\n",
        "from sklearn.model_selection import cross_val_score\n",
        "from sklearn.model_selection import KFold\n",
        "from sklearn.tree import DecisionTreeClassifier\n",
        "from sklearn.neighbors import KNeighborsClassifier\n",
        "from sklearn.naive_bayes import GaussianNB\n",
        "from sklearn.pipeline import Pipeline\n",
        "from sklearn.preprocessing import StandardScaler\n",
        "from sklearn.model_selection import GridSearchCV\n",
        "from sklearn.svm import SVC\n",
        "import time"
      ],
      "metadata": {
        "id": "PY8rJTT7xIxt"
      },
      "execution_count": 1,
      "outputs": []
    },
    {
      "cell_type": "markdown",
      "source": [
        "###Load Data"
      ],
      "metadata": {
        "id": "59ViMwNHxPeu"
      }
    },
    {
      "cell_type": "code",
      "execution_count": 2,
      "metadata": {
        "id": "qV1J3Py9OttO",
        "colab": {
          "base_uri": "https://localhost:8080/",
          "height": 317
        },
        "outputId": "da1130c8-226d-42de-b267-61dd1258328b"
      },
      "outputs": [
        {
          "output_type": "execute_result",
          "data": {
            "text/plain": [
              "         id diagnosis  radius_mean  texture_mean  perimeter_mean  area_mean  \\\n",
              "0    842302         M        17.99         10.38          122.80     1001.0   \n",
              "1    842517         M        20.57         17.77          132.90     1326.0   \n",
              "2  84300903         M        19.69         21.25          130.00     1203.0   \n",
              "3  84348301         M        11.42         20.38           77.58      386.1   \n",
              "4  84358402         M        20.29         14.34          135.10     1297.0   \n",
              "\n",
              "   smoothness_mean  compactness_mean  concavity_mean  concave points_mean  \\\n",
              "0          0.11840           0.27760          0.3001              0.14710   \n",
              "1          0.08474           0.07864          0.0869              0.07017   \n",
              "2          0.10960           0.15990          0.1974              0.12790   \n",
              "3          0.14250           0.28390          0.2414              0.10520   \n",
              "4          0.10030           0.13280          0.1980              0.10430   \n",
              "\n",
              "   ...  texture_worst  perimeter_worst  area_worst  smoothness_worst  \\\n",
              "0  ...          17.33           184.60      2019.0            0.1622   \n",
              "1  ...          23.41           158.80      1956.0            0.1238   \n",
              "2  ...          25.53           152.50      1709.0            0.1444   \n",
              "3  ...          26.50            98.87       567.7            0.2098   \n",
              "4  ...          16.67           152.20      1575.0            0.1374   \n",
              "\n",
              "   compactness_worst  concavity_worst  concave points_worst  symmetry_worst  \\\n",
              "0             0.6656           0.7119                0.2654          0.4601   \n",
              "1             0.1866           0.2416                0.1860          0.2750   \n",
              "2             0.4245           0.4504                0.2430          0.3613   \n",
              "3             0.8663           0.6869                0.2575          0.6638   \n",
              "4             0.2050           0.4000                0.1625          0.2364   \n",
              "\n",
              "   fractal_dimension_worst  Unnamed: 32  \n",
              "0                  0.11890          NaN  \n",
              "1                  0.08902          NaN  \n",
              "2                  0.08758          NaN  \n",
              "3                  0.17300          NaN  \n",
              "4                  0.07678          NaN  \n",
              "\n",
              "[5 rows x 33 columns]"
            ],
            "text/html": [
              "\n",
              "  <div id=\"df-948fe47b-c2f0-44fa-baea-b6f85fbb3e1d\">\n",
              "    <div class=\"colab-df-container\">\n",
              "      <div>\n",
              "<style scoped>\n",
              "    .dataframe tbody tr th:only-of-type {\n",
              "        vertical-align: middle;\n",
              "    }\n",
              "\n",
              "    .dataframe tbody tr th {\n",
              "        vertical-align: top;\n",
              "    }\n",
              "\n",
              "    .dataframe thead th {\n",
              "        text-align: right;\n",
              "    }\n",
              "</style>\n",
              "<table border=\"1\" class=\"dataframe\">\n",
              "  <thead>\n",
              "    <tr style=\"text-align: right;\">\n",
              "      <th></th>\n",
              "      <th>id</th>\n",
              "      <th>diagnosis</th>\n",
              "      <th>radius_mean</th>\n",
              "      <th>texture_mean</th>\n",
              "      <th>perimeter_mean</th>\n",
              "      <th>area_mean</th>\n",
              "      <th>smoothness_mean</th>\n",
              "      <th>compactness_mean</th>\n",
              "      <th>concavity_mean</th>\n",
              "      <th>concave points_mean</th>\n",
              "      <th>...</th>\n",
              "      <th>texture_worst</th>\n",
              "      <th>perimeter_worst</th>\n",
              "      <th>area_worst</th>\n",
              "      <th>smoothness_worst</th>\n",
              "      <th>compactness_worst</th>\n",
              "      <th>concavity_worst</th>\n",
              "      <th>concave points_worst</th>\n",
              "      <th>symmetry_worst</th>\n",
              "      <th>fractal_dimension_worst</th>\n",
              "      <th>Unnamed: 32</th>\n",
              "    </tr>\n",
              "  </thead>\n",
              "  <tbody>\n",
              "    <tr>\n",
              "      <th>0</th>\n",
              "      <td>842302</td>\n",
              "      <td>M</td>\n",
              "      <td>17.99</td>\n",
              "      <td>10.38</td>\n",
              "      <td>122.80</td>\n",
              "      <td>1001.0</td>\n",
              "      <td>0.11840</td>\n",
              "      <td>0.27760</td>\n",
              "      <td>0.3001</td>\n",
              "      <td>0.14710</td>\n",
              "      <td>...</td>\n",
              "      <td>17.33</td>\n",
              "      <td>184.60</td>\n",
              "      <td>2019.0</td>\n",
              "      <td>0.1622</td>\n",
              "      <td>0.6656</td>\n",
              "      <td>0.7119</td>\n",
              "      <td>0.2654</td>\n",
              "      <td>0.4601</td>\n",
              "      <td>0.11890</td>\n",
              "      <td>NaN</td>\n",
              "    </tr>\n",
              "    <tr>\n",
              "      <th>1</th>\n",
              "      <td>842517</td>\n",
              "      <td>M</td>\n",
              "      <td>20.57</td>\n",
              "      <td>17.77</td>\n",
              "      <td>132.90</td>\n",
              "      <td>1326.0</td>\n",
              "      <td>0.08474</td>\n",
              "      <td>0.07864</td>\n",
              "      <td>0.0869</td>\n",
              "      <td>0.07017</td>\n",
              "      <td>...</td>\n",
              "      <td>23.41</td>\n",
              "      <td>158.80</td>\n",
              "      <td>1956.0</td>\n",
              "      <td>0.1238</td>\n",
              "      <td>0.1866</td>\n",
              "      <td>0.2416</td>\n",
              "      <td>0.1860</td>\n",
              "      <td>0.2750</td>\n",
              "      <td>0.08902</td>\n",
              "      <td>NaN</td>\n",
              "    </tr>\n",
              "    <tr>\n",
              "      <th>2</th>\n",
              "      <td>84300903</td>\n",
              "      <td>M</td>\n",
              "      <td>19.69</td>\n",
              "      <td>21.25</td>\n",
              "      <td>130.00</td>\n",
              "      <td>1203.0</td>\n",
              "      <td>0.10960</td>\n",
              "      <td>0.15990</td>\n",
              "      <td>0.1974</td>\n",
              "      <td>0.12790</td>\n",
              "      <td>...</td>\n",
              "      <td>25.53</td>\n",
              "      <td>152.50</td>\n",
              "      <td>1709.0</td>\n",
              "      <td>0.1444</td>\n",
              "      <td>0.4245</td>\n",
              "      <td>0.4504</td>\n",
              "      <td>0.2430</td>\n",
              "      <td>0.3613</td>\n",
              "      <td>0.08758</td>\n",
              "      <td>NaN</td>\n",
              "    </tr>\n",
              "    <tr>\n",
              "      <th>3</th>\n",
              "      <td>84348301</td>\n",
              "      <td>M</td>\n",
              "      <td>11.42</td>\n",
              "      <td>20.38</td>\n",
              "      <td>77.58</td>\n",
              "      <td>386.1</td>\n",
              "      <td>0.14250</td>\n",
              "      <td>0.28390</td>\n",
              "      <td>0.2414</td>\n",
              "      <td>0.10520</td>\n",
              "      <td>...</td>\n",
              "      <td>26.50</td>\n",
              "      <td>98.87</td>\n",
              "      <td>567.7</td>\n",
              "      <td>0.2098</td>\n",
              "      <td>0.8663</td>\n",
              "      <td>0.6869</td>\n",
              "      <td>0.2575</td>\n",
              "      <td>0.6638</td>\n",
              "      <td>0.17300</td>\n",
              "      <td>NaN</td>\n",
              "    </tr>\n",
              "    <tr>\n",
              "      <th>4</th>\n",
              "      <td>84358402</td>\n",
              "      <td>M</td>\n",
              "      <td>20.29</td>\n",
              "      <td>14.34</td>\n",
              "      <td>135.10</td>\n",
              "      <td>1297.0</td>\n",
              "      <td>0.10030</td>\n",
              "      <td>0.13280</td>\n",
              "      <td>0.1980</td>\n",
              "      <td>0.10430</td>\n",
              "      <td>...</td>\n",
              "      <td>16.67</td>\n",
              "      <td>152.20</td>\n",
              "      <td>1575.0</td>\n",
              "      <td>0.1374</td>\n",
              "      <td>0.2050</td>\n",
              "      <td>0.4000</td>\n",
              "      <td>0.1625</td>\n",
              "      <td>0.2364</td>\n",
              "      <td>0.07678</td>\n",
              "      <td>NaN</td>\n",
              "    </tr>\n",
              "  </tbody>\n",
              "</table>\n",
              "<p>5 rows × 33 columns</p>\n",
              "</div>\n",
              "      <button class=\"colab-df-convert\" onclick=\"convertToInteractive('df-948fe47b-c2f0-44fa-baea-b6f85fbb3e1d')\"\n",
              "              title=\"Convert this dataframe to an interactive table.\"\n",
              "              style=\"display:none;\">\n",
              "        \n",
              "  <svg xmlns=\"http://www.w3.org/2000/svg\" height=\"24px\"viewBox=\"0 0 24 24\"\n",
              "       width=\"24px\">\n",
              "    <path d=\"M0 0h24v24H0V0z\" fill=\"none\"/>\n",
              "    <path d=\"M18.56 5.44l.94 2.06.94-2.06 2.06-.94-2.06-.94-.94-2.06-.94 2.06-2.06.94zm-11 1L8.5 8.5l.94-2.06 2.06-.94-2.06-.94L8.5 2.5l-.94 2.06-2.06.94zm10 10l.94 2.06.94-2.06 2.06-.94-2.06-.94-.94-2.06-.94 2.06-2.06.94z\"/><path d=\"M17.41 7.96l-1.37-1.37c-.4-.4-.92-.59-1.43-.59-.52 0-1.04.2-1.43.59L10.3 9.45l-7.72 7.72c-.78.78-.78 2.05 0 2.83L4 21.41c.39.39.9.59 1.41.59.51 0 1.02-.2 1.41-.59l7.78-7.78 2.81-2.81c.8-.78.8-2.07 0-2.86zM5.41 20L4 18.59l7.72-7.72 1.47 1.35L5.41 20z\"/>\n",
              "  </svg>\n",
              "      </button>\n",
              "      \n",
              "  <style>\n",
              "    .colab-df-container {\n",
              "      display:flex;\n",
              "      flex-wrap:wrap;\n",
              "      gap: 12px;\n",
              "    }\n",
              "\n",
              "    .colab-df-convert {\n",
              "      background-color: #E8F0FE;\n",
              "      border: none;\n",
              "      border-radius: 50%;\n",
              "      cursor: pointer;\n",
              "      display: none;\n",
              "      fill: #1967D2;\n",
              "      height: 32px;\n",
              "      padding: 0 0 0 0;\n",
              "      width: 32px;\n",
              "    }\n",
              "\n",
              "    .colab-df-convert:hover {\n",
              "      background-color: #E2EBFA;\n",
              "      box-shadow: 0px 1px 2px rgba(60, 64, 67, 0.3), 0px 1px 3px 1px rgba(60, 64, 67, 0.15);\n",
              "      fill: #174EA6;\n",
              "    }\n",
              "\n",
              "    [theme=dark] .colab-df-convert {\n",
              "      background-color: #3B4455;\n",
              "      fill: #D2E3FC;\n",
              "    }\n",
              "\n",
              "    [theme=dark] .colab-df-convert:hover {\n",
              "      background-color: #434B5C;\n",
              "      box-shadow: 0px 1px 3px 1px rgba(0, 0, 0, 0.15);\n",
              "      filter: drop-shadow(0px 1px 2px rgba(0, 0, 0, 0.3));\n",
              "      fill: #FFFFFF;\n",
              "    }\n",
              "  </style>\n",
              "\n",
              "      <script>\n",
              "        const buttonEl =\n",
              "          document.querySelector('#df-948fe47b-c2f0-44fa-baea-b6f85fbb3e1d button.colab-df-convert');\n",
              "        buttonEl.style.display =\n",
              "          google.colab.kernel.accessAllowed ? 'block' : 'none';\n",
              "\n",
              "        async function convertToInteractive(key) {\n",
              "          const element = document.querySelector('#df-948fe47b-c2f0-44fa-baea-b6f85fbb3e1d');\n",
              "          const dataTable =\n",
              "            await google.colab.kernel.invokeFunction('convertToInteractive',\n",
              "                                                     [key], {});\n",
              "          if (!dataTable) return;\n",
              "\n",
              "          const docLinkHtml = 'Like what you see? Visit the ' +\n",
              "            '<a target=\"_blank\" href=https://colab.research.google.com/notebooks/data_table.ipynb>data table notebook</a>'\n",
              "            + ' to learn more about interactive tables.';\n",
              "          element.innerHTML = '';\n",
              "          dataTable['output_type'] = 'display_data';\n",
              "          await google.colab.output.renderOutput(dataTable, element);\n",
              "          const docLink = document.createElement('div');\n",
              "          docLink.innerHTML = docLinkHtml;\n",
              "          element.appendChild(docLink);\n",
              "        }\n",
              "      </script>\n",
              "    </div>\n",
              "  </div>\n",
              "  "
            ]
          },
          "metadata": {},
          "execution_count": 2
        }
      ],
      "source": [
        "df = pd.read_csv('https://raw.githubusercontent.com/JOHANDILEEP21/Mini-Projects/main/cancer.csv', index_col=False)\n",
        "df.head()"
      ]
    },
    {
      "cell_type": "code",
      "source": [
        "df.isnull().sum()"
      ],
      "metadata": {
        "id": "cuUgvsoJXjMP",
        "colab": {
          "base_uri": "https://localhost:8080/"
        },
        "outputId": "a5f1906b-9b36-4e69-b4bd-96aa9a863ef5"
      },
      "execution_count": 3,
      "outputs": [
        {
          "output_type": "execute_result",
          "data": {
            "text/plain": [
              "id                           0\n",
              "diagnosis                    0\n",
              "radius_mean                  0\n",
              "texture_mean                 0\n",
              "perimeter_mean               0\n",
              "area_mean                    0\n",
              "smoothness_mean              0\n",
              "compactness_mean             0\n",
              "concavity_mean               0\n",
              "concave points_mean          0\n",
              "symmetry_mean                0\n",
              "fractal_dimension_mean       0\n",
              "radius_se                    0\n",
              "texture_se                   0\n",
              "perimeter_se                 0\n",
              "area_se                      0\n",
              "smoothness_se                0\n",
              "compactness_se               0\n",
              "concavity_se                 0\n",
              "concave points_se            0\n",
              "symmetry_se                  0\n",
              "fractal_dimension_se         0\n",
              "radius_worst                 0\n",
              "texture_worst                0\n",
              "perimeter_worst              0\n",
              "area_worst                   0\n",
              "smoothness_worst             0\n",
              "compactness_worst            0\n",
              "concavity_worst              0\n",
              "concave points_worst         0\n",
              "symmetry_worst               0\n",
              "fractal_dimension_worst      0\n",
              "Unnamed: 32                569\n",
              "dtype: int64"
            ]
          },
          "metadata": {},
          "execution_count": 3
        }
      ]
    },
    {
      "cell_type": "markdown",
      "source": [
        "In here, The unnamed: 32 column has a large amount of null values. So we should drop the column."
      ],
      "metadata": {
        "id": "ldw4IjJLz3As"
      }
    },
    {
      "cell_type": "code",
      "source": [
        "df = df.drop('Unnamed: 32', axis=1)"
      ],
      "metadata": {
        "id": "WtuNWzgwxnTm"
      },
      "execution_count": 4,
      "outputs": []
    },
    {
      "cell_type": "markdown",
      "source": [
        "After removed the column. Check the shape of the DataFrame."
      ],
      "metadata": {
        "id": "MdpX8ylt0EI8"
      }
    },
    {
      "cell_type": "code",
      "source": [
        "df.shape"
      ],
      "metadata": {
        "colab": {
          "base_uri": "https://localhost:8080/"
        },
        "id": "oyj7loIUyl1Y",
        "outputId": "b9a2c053-83ee-4ff1-ddf4-0330fe733a7f"
      },
      "execution_count": 5,
      "outputs": [
        {
          "output_type": "execute_result",
          "data": {
            "text/plain": [
              "(569, 32)"
            ]
          },
          "metadata": {},
          "execution_count": 5
        }
      ]
    },
    {
      "cell_type": "code",
      "source": [
        "df = df.drop_duplicates()"
      ],
      "metadata": {
        "id": "eE4e2f-8yn6y"
      },
      "execution_count": 6,
      "outputs": []
    },
    {
      "cell_type": "code",
      "source": [
        "df.dtypes"
      ],
      "metadata": {
        "colab": {
          "base_uri": "https://localhost:8080/"
        },
        "id": "YcpS1t3Cy3BV",
        "outputId": "ae8fc85b-66f0-4e94-d4e6-2c364a86744b"
      },
      "execution_count": 7,
      "outputs": [
        {
          "output_type": "execute_result",
          "data": {
            "text/plain": [
              "id                           int64\n",
              "diagnosis                   object\n",
              "radius_mean                float64\n",
              "texture_mean               float64\n",
              "perimeter_mean             float64\n",
              "area_mean                  float64\n",
              "smoothness_mean            float64\n",
              "compactness_mean           float64\n",
              "concavity_mean             float64\n",
              "concave points_mean        float64\n",
              "symmetry_mean              float64\n",
              "fractal_dimension_mean     float64\n",
              "radius_se                  float64\n",
              "texture_se                 float64\n",
              "perimeter_se               float64\n",
              "area_se                    float64\n",
              "smoothness_se              float64\n",
              "compactness_se             float64\n",
              "concavity_se               float64\n",
              "concave points_se          float64\n",
              "symmetry_se                float64\n",
              "fractal_dimension_se       float64\n",
              "radius_worst               float64\n",
              "texture_worst              float64\n",
              "perimeter_worst            float64\n",
              "area_worst                 float64\n",
              "smoothness_worst           float64\n",
              "compactness_worst          float64\n",
              "concavity_worst            float64\n",
              "concave points_worst       float64\n",
              "symmetry_worst             float64\n",
              "fractal_dimension_worst    float64\n",
              "dtype: object"
            ]
          },
          "metadata": {},
          "execution_count": 7
        }
      ]
    },
    {
      "cell_type": "markdown",
      "source": [
        "First thing to do is to enumerate the diagnosis column such that M = 1, B = 0. \n",
        "\n",
        "Then, I set the ID column to be the index of the dataframe. Afterall, the ID column will not be used for machine learning"
      ],
      "metadata": {
        "id": "dZtCE4iezvF2"
      }
    },
    {
      "cell_type": "code",
      "source": [
        "df['diagnosis'] = df['diagnosis'].apply(lambda x:'1' if x == 'M' else '0')\n",
        "df = df.set_index('id')"
      ],
      "metadata": {
        "id": "Pl01mWIWzSjz"
      },
      "execution_count": 8,
      "outputs": []
    },
    {
      "cell_type": "markdown",
      "source": [
        "Let's take a look at the number of Benign and Maglinant cases from the dataset. \n",
        "\n",
        "From the output shown below, majority of the cases are benign (0)."
      ],
      "metadata": {
        "id": "vxId9m6Z1AoR"
      }
    },
    {
      "cell_type": "code",
      "source": [
        "print(df.groupby('diagnosis').size())"
      ],
      "metadata": {
        "colab": {
          "base_uri": "https://localhost:8080/"
        },
        "id": "7NgiH3pR08oP",
        "outputId": "9fb23b25-2c1a-428a-a12e-a455b16b40e7"
      },
      "execution_count": 9,
      "outputs": [
        {
          "output_type": "stream",
          "name": "stdout",
          "text": [
            "diagnosis\n",
            "0    357\n",
            "1    212\n",
            "dtype: int64\n"
          ]
        }
      ]
    },
    {
      "cell_type": "markdown",
      "source": [
        "Next, we visualise the data using density plots to get a sense of the data distribution.\n",
        "\n",
        "From the outputs below, you can see the data shows a general gaussian distribution."
      ],
      "metadata": {
        "id": "swIvBQpT1TEz"
      }
    },
    {
      "cell_type": "code",
      "source": [
        "df.plot(kind='density', subplots=True, layout=(5,7),sharex=False,legend=False, fontsize=1)\n",
        "plt.show()"
      ],
      "metadata": {
        "colab": {
          "base_uri": "https://localhost:8080/",
          "height": 257
        },
        "id": "gKgeoNG11Oed",
        "outputId": "8223b6fd-ea0e-4b66-97e7-81589f4b42eb"
      },
      "execution_count": 10,
      "outputs": [
        {
          "output_type": "display_data",
          "data": {
            "text/plain": [
              "<Figure size 432x288 with 35 Axes>"
            ],
            "image/png": "[encoded data removed]"
          },
          "metadata": {
            "needs_background": "light"
          }
        }
      ]
    },
    {
      "cell_type": "markdown",
      "source": [
        "It is good to check the correlations between the attributes.\n",
        "\n",
        "From the output graph below, The red around the diagonal suggests that attributes are correlated with each other.\n",
        "\n",
        "The yellow and green patches suggest some moderate correlation and the blue boxes show negative correlations."
      ],
      "metadata": {
        "id": "xUQbrjOp3MPq"
      }
    },
    {
      "cell_type": "code",
      "source": [
        "from matplotlib import cm\n",
        "fig = plt.figure()\n",
        "ax1 = fig.add_subplot(111)\n",
        "cmap = cm.get_cmap('jet', 30)\n",
        "cax = ax1.imshow(df.corr(), interpolation='none', cmap=cmap)\n",
        "ax1.grid(True)\n",
        "plt.title('Breast Cancer Attributes Correlation')\n",
        "#Add colorbar, make sure to specify the tick locations to match desired ticklabels\n",
        "fig.colorbar(cax, ticks=[.75,.8,.85,.9,.95,1])\n",
        "plt.show()"
      ],
      "metadata": {
        "id": "F8vEIVvM2dkQ",
        "colab": {
          "base_uri": "https://localhost:8080/",
          "height": 281
        },
        "outputId": "005db17c-65cb-4a4d-a593-7e1307beadaa"
      },
      "execution_count": 12,
      "outputs": [
        {
          "output_type": "display_data",
          "data": {
            "text/plain": [
              "<Figure size 432x288 with 2 Axes>"
            ],
            "image/png": "[encoded data removed]"
          },
          "metadata": {
            "needs_background": "light"
          }
        }
      ]
    },
    {
      "cell_type": "markdown",
      "source": [
        "Finally, we'll split the data into predictor variables and target variable, following by breaking them into train and test sets.\n",
        "\n",
        "We will use 20% of the data as test set."
      ],
      "metadata": {
        "id": "t40EdzKo6H36"
      }
    },
    {
      "cell_type": "code",
      "source": [
        "X = df.drop('diagnosis', axis=1).values\n",
        "y=df['diagnosis'].values"
      ],
      "metadata": {
        "id": "TjEZNQoE59kr"
      },
      "execution_count": 13,
      "outputs": []
    },
    {
      "cell_type": "code",
      "source": [
        "X_train, X_test, y_train, y_test = train_test_split(X, y, test_size=0.2, random_state=0)"
      ],
      "metadata": {
        "id": "24T8rd-x6s_x"
      },
      "execution_count": 16,
      "outputs": []
    },
    {
      "cell_type": "markdown",
      "source": [
        "##Baseline Algorithm Checking\n",
        "\n",
        "---\n",
        "\n",
        "From the dataset, we will analysis and build a model to predict if a given set of symptoms lead to breast cancer.\n",
        "\n",
        "This is a binary classification problem, and a few algorithms are appropriate for use.\n",
        "\n",
        "Since we do not know which one will perform the best at the point, we will do a quick test on the few appropriate algorithms with default setting to get an early indication of how each of them perform.\n",
        "\n",
        "We will use 10 fold cross validation for each testing.\n",
        "\n",
        "---\n",
        "\n",
        "\n",
        "\n",
        "The following non-linear algorithms will be used, namely:\n",
        "\n",
        "**Classification and Regression Trees (CART)**\n",
        "\n",
        "**Linear Support Vector Machines (SVM)**\n",
        "\n",
        "**Gaussian Naive Bayes (NB)**\n",
        "\n",
        "**k-Nearest Neighbors (KNN).**"
      ],
      "metadata": {
        "id": "BeEAvTtZ7CSD"
      }
    },
    {
      "cell_type": "code",
      "source": [
        "models_list = []\n",
        "models_list.append(('CART', DecisionTreeClassifier()))\n",
        "models_list.append(('SVM', SVC()))\n",
        "models_list.append(('GAUSSIAN NAIVE BAYES', GaussianNB()))\n",
        "models_list.append(('KNN', KNeighborsClassifier()))"
      ],
      "metadata": {
        "id": "tQnOn0TM63Q1"
      },
      "execution_count": 38,
      "outputs": []
    },
    {
      "cell_type": "code",
      "source": [
        "num_folds = 10\n",
        "results = []\n",
        "names =[]\n",
        "for name, model in models_list:\n",
        "  kfold = KFold(n_splits=num_folds, shuffle=True)\n",
        "  start = time.time()\n",
        "  cv_results = cross_val_score(model, X_train, y_train, cv=kfold)\n",
        "  end = time.time()\n",
        "  results.append(cv_results)\n",
        "  names.append(name)\n",
        "  print(\"%s: %f (%f) (runtime: %f)\" % (name, cv_results.mean(), cv_results.std(),end-start))"
      ],
      "metadata": {
        "colab": {
          "base_uri": "https://localhost:8080/"
        },
        "id": "NDUeSZ-i8fUN",
        "outputId": "0e2ce1aa-d832-41d3-9f07-9478017d4021"
      },
      "execution_count": 39,
      "outputs": [
        {
          "output_type": "stream",
          "name": "stdout",
          "text": [
            "CART: 0.923382 (0.038831) (runtime: 0.095583)\n",
            "SVM: 0.903430 (0.032271) (runtime: 0.067172)\n",
            "GAUSSIAN NAIVE BAYES: 0.943043 (0.025914) (runtime: 0.035151)\n",
            "KNN: 0.923430 (0.047771) (runtime: 0.064714)\n"
          ]
        }
      ]
    },
    {
      "cell_type": "code",
      "source": [
        "fig = plt.figure()\n",
        "fig.suptitle('Peroformece Comparision')\n",
        "ax = fig.add_subplot(111)\n",
        "plt.boxplot(results)\n",
        "ax.set_xticklabels(names)\n",
        "plt.show()"
      ],
      "metadata": {
        "colab": {
          "base_uri": "https://localhost:8080/",
          "height": 294
        },
        "id": "rnYWfWEd-Oml",
        "outputId": "5857a8c9-e88a-4683-d4be-85217a43edbe"
      },
      "execution_count": 40,
      "outputs": [
        {
          "output_type": "display_data",
          "data": {
            "text/plain": [
              "<Figure size 432x288 with 1 Axes>"
            ],
            "image/png": "[encoded data removed]"
          },
          "metadata": {
            "needs_background": "light"
          }
        }
      ]
    },
    {
      "cell_type": "markdown",
      "source": [
        "From the initial run, it looks like GaussianNB, KNN and CART performed the best given the dataset (all above 92% mean accuracy).\n",
        "\n",
        "Support Vector Machine has a surprisingly bad performance here.\n",
        "\n",
        "However, if we standardise the input dataset, it's performance should improve."
      ],
      "metadata": {
        "id": "oY5KUL9mBKyR"
      }
    },
    {
      "cell_type": "markdown",
      "source": [
        "##Evaluation of algorithm on Standardised Data\n",
        "\n",
        "---\n",
        "\n",
        "\n",
        "The performance of the few machine learning algorithm could be improved if a standardised dataset is being used.\n",
        "\n",
        "The improvement is likely for all the models.\n",
        "\n",
        "I will use pipelines that standardize the data and build the model for each fold in the cross-validation test harness.\n",
        "\n",
        "That way we can get a fair estimation of how each model with standardized data might perform on unseen data."
      ],
      "metadata": {
        "id": "fKzssGooBfLl"
      }
    },
    {
      "cell_type": "code",
      "source": [
        "import warnings\n",
        "\n",
        "# Standardize the dataset\n",
        "pipelines = []\n",
        "\n",
        "pipelines.append(('ScaledCART', Pipeline([('Scaler', StandardScaler()),('CART', DecisionTreeClassifier())])))\n",
        "pipelines.append(('ScaledSVM', Pipeline([('Scaler', StandardScaler()),('SVM', SVC( ))])))\n",
        "pipelines.append(('ScaledNB', Pipeline([('Scaler', StandardScaler()),('NB',GaussianNB())])))\n",
        "pipelines.append(('ScaledKNN', Pipeline([('Scaler', StandardScaler()),('KNN',KNeighborsClassifier())])))\n",
        "\n",
        "results = []\n",
        "names = []\n",
        "with warnings.catch_warnings():\n",
        "    warnings.simplefilter(\"ignore\")\n",
        "    kfold = KFold(n_splits=num_folds, shuffle=True)\n",
        "    for name, model in pipelines:\n",
        "        start = time.time()\n",
        "        cv_results = cross_val_score(model, X_train, y_train, cv=kfold, scoring='accuracy')\n",
        "        end = time.time()\n",
        "        results.append(cv_results)\n",
        "        names.append(name)\n",
        "        print( \"%s: %f (%f) (run time: %f)\" % (name, cv_results.mean(), cv_results.std(), end-start))"
      ],
      "metadata": {
        "colab": {
          "base_uri": "https://localhost:8080/"
        },
        "id": "Hi67Y_ZQAtjn",
        "outputId": "8d4328cc-a783-4dd7-d4ee-b528c332a844"
      },
      "execution_count": 43,
      "outputs": [
        {
          "output_type": "stream",
          "name": "stdout",
          "text": [
            "ScaledCART: 0.931836 (0.038839) (run time: 0.110449)\n",
            "ScaledSVM: 0.971449 (0.022053) (run time: 0.087214)\n",
            "ScaledNB: 0.944928 (0.034819) (run time: 0.037156)\n",
            "ScaledKNN: 0.964928 (0.022383) (run time: 0.076584)\n"
          ]
        }
      ]
    },
    {
      "cell_type": "code",
      "source": [
        "fig = plt.figure()\n",
        "fig.suptitle('Performence Comparision')\n",
        "ax = fig.add_subplot(111)\n",
        "plt.boxplot(results)\n",
        "ax.set_xticklabels(names)\n",
        "plt.show()"
      ],
      "metadata": {
        "colab": {
          "base_uri": "https://localhost:8080/",
          "height": 294
        },
        "id": "xrxcOEr9B6gV",
        "outputId": "a55feb78-f303-4209-f3e3-251fbd27aefe"
      },
      "execution_count": 44,
      "outputs": [
        {
          "output_type": "display_data",
          "data": {
            "text/plain": [
              "<Figure size 432x288 with 1 Axes>"
            ],
            "image/png": "[encoded data removed]"
          },
          "metadata": {
            "needs_background": "light"
          }
        }
      ]
    },
    {
      "cell_type": "markdown",
      "source": [
        "Notice the drastic improvement of SVM after using scaled data.\n",
        "\n",
        "Next, we'll fine tune the performance of SVM by tuning the algorithm"
      ],
      "metadata": {
        "id": "oULJfM5ZCtp3"
      }
    },
    {
      "cell_type": "markdown",
      "source": [
        "##Algorithm Tuning - Tuning SVM\n",
        "\n",
        "---\n",
        "\n",
        "\n",
        "We will focus on SVM for the algorithm tuning. We can tune two key parameter of the SVM algorithm - the value of C and the type of kernel.\n",
        "\n",
        "The default C for SVM is 1.0 and the kernel is Radial Basis Function (RBF).\n",
        "\n",
        "We will use the grid search method using 10-fold cross-validation with a standardized copy of the sample training dataset. We will try over a combination of C values and the following kernel types 'linear', 'poly', 'rbf' and 'sigmoid"
      ],
      "metadata": {
        "id": "HiFg_WTtCyzo"
      }
    },
    {
      "cell_type": "code",
      "source": [
        "scaler = StandardScaler().fit(X_train)\n",
        "rescaledX = scaler.transform(X_train)\n",
        "c_values = [0.1, 0.3, 0.5, 0.7, 0.9, 1.0, 1.3, 1.5, 1.7, 2.0]\n",
        "kernel_values = ['linear', 'poly', 'rbf', 'sigmoid']\n",
        "param_grid = dict(C=c_values, kernel=kernel_values)\n",
        "model = SVC()\n",
        "kfold = KFold(n_splits=num_folds, shuffle=True)\n",
        "grid = GridSearchCV(estimator=model, param_grid=param_grid, scoring='accuracy', cv=kfold)\n",
        "grid_result = grid.fit(rescaledX, y_train)\n",
        "print(\"Best: %f using %s\" % (grid_result.best_score_, grid_result.best_params_))\n",
        "means = grid_result.cv_results_['mean_test_score']\n",
        "stds = grid_result.cv_results_['std_test_score']\n",
        "params = grid_result.cv_results_['params']\n",
        "for mean, stdev, param in zip(means, stds, params):\n",
        "    print(\"%f (%f) with: %r\" % (mean, stdev, param))"
      ],
      "metadata": {
        "colab": {
          "base_uri": "https://localhost:8080/"
        },
        "id": "NOzESzUzCl92",
        "outputId": "a13191ae-4e0b-4784-9743-23ac70525f98"
      },
      "execution_count": 46,
      "outputs": [
        {
          "output_type": "stream",
          "name": "stdout",
          "text": [
            "Best: 0.980290 using {'C': 1.3, 'kernel': 'rbf'}\n",
            "0.980242 (0.022995) with: {'C': 0.1, 'kernel': 'linear'}\n",
            "0.835507 (0.049004) with: {'C': 0.1, 'kernel': 'poly'}\n",
            "0.942899 (0.026370) with: {'C': 0.1, 'kernel': 'rbf'}\n",
            "0.949469 (0.029674) with: {'C': 0.1, 'kernel': 'sigmoid'}\n",
            "0.973720 (0.016348) with: {'C': 0.3, 'kernel': 'linear'}\n",
            "0.874879 (0.030452) with: {'C': 0.3, 'kernel': 'poly'}\n",
            "0.956039 (0.019667) with: {'C': 0.3, 'kernel': 'rbf'}\n",
            "0.966908 (0.028417) with: {'C': 0.3, 'kernel': 'sigmoid'}\n",
            "0.969324 (0.017516) with: {'C': 0.5, 'kernel': 'linear'}\n",
            "0.890242 (0.038852) with: {'C': 0.5, 'kernel': 'poly'}\n",
            "0.969324 (0.020033) with: {'C': 0.5, 'kernel': 'rbf'}\n",
            "0.962512 (0.029836) with: {'C': 0.5, 'kernel': 'sigmoid'}\n",
            "0.964976 (0.019981) with: {'C': 0.7, 'kernel': 'linear'}\n",
            "0.892464 (0.041778) with: {'C': 0.7, 'kernel': 'poly'}\n",
            "0.973720 (0.021361) with: {'C': 0.7, 'kernel': 'rbf'}\n",
            "0.962464 (0.034423) with: {'C': 0.7, 'kernel': 'sigmoid'}\n",
            "0.964928 (0.017420) with: {'C': 0.9, 'kernel': 'linear'}\n",
            "0.894638 (0.041090) with: {'C': 0.9, 'kernel': 'poly'}\n",
            "0.973720 (0.021361) with: {'C': 0.9, 'kernel': 'rbf'}\n",
            "0.951498 (0.035368) with: {'C': 0.9, 'kernel': 'sigmoid'}\n",
            "0.962754 (0.021841) with: {'C': 1.0, 'kernel': 'linear'}\n",
            "0.894638 (0.041090) with: {'C': 1.0, 'kernel': 'poly'}\n",
            "0.978116 (0.023904) with: {'C': 1.0, 'kernel': 'rbf'}\n",
            "0.955942 (0.035598) with: {'C': 1.0, 'kernel': 'sigmoid'}\n",
            "0.960531 (0.021324) with: {'C': 1.3, 'kernel': 'linear'}\n",
            "0.903382 (0.042762) with: {'C': 1.3, 'kernel': 'poly'}\n",
            "0.980290 (0.020628) with: {'C': 1.3, 'kernel': 'rbf'}\n",
            "0.944879 (0.031605) with: {'C': 1.3, 'kernel': 'sigmoid'}\n",
            "0.962705 (0.021905) with: {'C': 1.5, 'kernel': 'linear'}\n",
            "0.907826 (0.040988) with: {'C': 1.5, 'kernel': 'poly'}\n",
            "0.980290 (0.020628) with: {'C': 1.5, 'kernel': 'rbf'}\n",
            "0.947150 (0.034348) with: {'C': 1.5, 'kernel': 'sigmoid'}\n",
            "0.962705 (0.021905) with: {'C': 1.7, 'kernel': 'linear'}\n",
            "0.907826 (0.040988) with: {'C': 1.7, 'kernel': 'poly'}\n",
            "0.978116 (0.019554) with: {'C': 1.7, 'kernel': 'rbf'}\n",
            "0.942705 (0.037170) with: {'C': 1.7, 'kernel': 'sigmoid'}\n",
            "0.960531 (0.021324) with: {'C': 2.0, 'kernel': 'linear'}\n",
            "0.912222 (0.039964) with: {'C': 2.0, 'kernel': 'poly'}\n",
            "0.975894 (0.018154) with: {'C': 2.0, 'kernel': 'rbf'}\n",
            "0.938309 (0.029264) with: {'C': 2.0, 'kernel': 'sigmoid'}\n"
          ]
        }
      ]
    },
    {
      "cell_type": "markdown",
      "source": [
        "We can see the most accurate configuration was SVM with an RBF kernel and C=1.3, with the accuracy of 98%."
      ],
      "metadata": {
        "id": "5dZrhmmiDopg"
      }
    },
    {
      "cell_type": "markdown",
      "source": [
        "###Application of SVC on dataset\n",
        "\n",
        "Let's fit the SVM to the dataset and see how it performs given the test data."
      ],
      "metadata": {
        "id": "XMrTFf-rD5Ix"
      }
    },
    {
      "cell_type": "code",
      "source": [
        "# prepare the model\n",
        "with warnings.catch_warnings():\n",
        "    warnings.simplefilter(\"ignore\")\n",
        "    scaler = StandardScaler().fit(X_train)\n",
        "X_train_scaled = scaler.transform(X_train)\n",
        "model = SVC(C=2.0, kernel='rbf')\n",
        "start = time.time()\n",
        "model.fit(X_train_scaled, y_train)\n",
        "end = time.time()\n",
        "print( \"Run Time: %f\" % (end-start))"
      ],
      "metadata": {
        "colab": {
          "base_uri": "https://localhost:8080/"
        },
        "id": "6N4iKzs8DD99",
        "outputId": "364c7465-7528-4ece-da38-8543f5b47fa2"
      },
      "execution_count": 47,
      "outputs": [
        {
          "output_type": "stream",
          "name": "stdout",
          "text": [
            "Run Time: 0.008007\n"
          ]
        }
      ]
    },
    {
      "cell_type": "code",
      "source": [
        "# estimate accuracy on test dataset\n",
        "with warnings.catch_warnings():\n",
        "    warnings.simplefilter(\"ignore\")\n",
        "    X_test_scaled = scaler.transform(X_test)\n",
        "predictions = model.predict(X_test_scaled)"
      ],
      "metadata": {
        "id": "zjpvra9_EB4g"
      },
      "execution_count": 48,
      "outputs": []
    },
    {
      "cell_type": "code",
      "source": [
        "print(\"Accuracy score %f\" % accuracy_score(y_test, predictions))\n",
        "print(classification_report(y_test, predictions))"
      ],
      "metadata": {
        "colab": {
          "base_uri": "https://localhost:8080/"
        },
        "id": "1OLYhroXEF5s",
        "outputId": "3f08f853-6b10-441d-9474-c437c64a26a0"
      },
      "execution_count": 49,
      "outputs": [
        {
          "output_type": "stream",
          "name": "stdout",
          "text": [
            "Accuracy score 0.982456\n",
            "              precision    recall  f1-score   support\n",
            "\n",
            "           0       0.99      0.99      0.99        67\n",
            "           1       0.98      0.98      0.98        47\n",
            "\n",
            "    accuracy                           0.98       114\n",
            "   macro avg       0.98      0.98      0.98       114\n",
            "weighted avg       0.98      0.98      0.98       114\n",
            "\n"
          ]
        }
      ]
    },
    {
      "cell_type": "code",
      "source": [
        "print(confusion_matrix(y_test, predictions))"
      ],
      "metadata": {
        "colab": {
          "base_uri": "https://localhost:8080/"
        },
        "id": "ExRUKVBsEJ9u",
        "outputId": "1a86d36d-550e-4a34-8db4-a73d5024f38c"
      },
      "execution_count": 51,
      "outputs": [
        {
          "output_type": "stream",
          "name": "stdout",
          "text": [
            "[[66  1]\n",
            " [ 1 46]]\n"
          ]
        }
      ]
    },
    {
      "cell_type": "markdown",
      "source": [
        "We can see that we achieve an accuracy of 99.1% on the held-out test dataset. \n",
        "\n",
        "From the confusion matrix, there is only 1 case of mis-classification.\n",
        "\n",
        "The performance of this algorithm is expected to be high given the symptoms for breast cancer should exchibit certain clear patterns."
      ],
      "metadata": {
        "id": "IVweWEfIET1w"
      }
    },
    {
      "cell_type": "markdown",
      "source": [
        "#**What else could be done**\n",
        "\n",
        "---\n",
        "\n",
        "\n",
        "--> 1) Test the algorithm on KNN and GausianNB\n",
        "\n",
        "--> 2) Test the data with Artificial Neural Net"
      ],
      "metadata": {
        "id": "nf7RBifmEZmX"
      }
    },
    {
      "cell_type": "code",
      "source": [],
      "metadata": {
        "id": "6UaLgVqMENSc"
      },
      "execution_count": null,
      "outputs": []
    }
  ]
}